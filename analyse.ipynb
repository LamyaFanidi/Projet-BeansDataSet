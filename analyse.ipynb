{
 "cells": [
  {
   "cell_type": "code",
   "execution_count": 2,
   "metadata": {},
   "outputs": [
    {
     "name": "stdout",
     "output_type": "stream",
     "text": [
      "  Channel Region  Robusta  Arabica  Espresso  Lungo  Latte  Cappuccino\n",
      "0  Online  South    12669     9656      7561    214   2674        1338\n",
      "1  Online  South     7057     9810      9568   1762   3293        1776\n",
      "2  Online  South     6353     8808      7684   2405   3516        7844\n",
      "3   Store  South    13265     1196      4221   6404    507        1788\n",
      "4  Online  South    22615     5410      7198   3915   1777        5185\n",
      "<class 'pandas.core.frame.DataFrame'>\n",
      "RangeIndex: 440 entries, 0 to 439\n",
      "Data columns (total 8 columns):\n",
      " #   Column      Non-Null Count  Dtype \n",
      "---  ------      --------------  ----- \n",
      " 0   Channel     440 non-null    object\n",
      " 1   Region      440 non-null    object\n",
      " 2   Robusta     440 non-null    int64 \n",
      " 3   Arabica     440 non-null    int64 \n",
      " 4   Espresso    440 non-null    int64 \n",
      " 5   Lungo       440 non-null    int64 \n",
      " 6   Latte       440 non-null    int64 \n",
      " 7   Cappuccino  440 non-null    int64 \n",
      "dtypes: int64(6), object(2)\n",
      "memory usage: 27.6+ KB\n",
      "None\n",
      "Channel       0\n",
      "Region        0\n",
      "Robusta       0\n",
      "Arabica       0\n",
      "Espresso      0\n",
      "Lungo         0\n",
      "Latte         0\n",
      "Cappuccino    0\n",
      "dtype: int64\n",
      "Index(['Channel', 'Region', 'Robusta', 'Arabica', 'Espresso', 'Lungo', 'Latte',\n",
      "       'Cappuccino'],\n",
      "      dtype='object')\n"
     ]
    }
   ],
   "source": [
    "from pandas import read_csv\n",
    "import pandas as pd\n",
    "\n",
    "# Charger les données\n",
    "fichier='data/BeansDataSet.csv'\n",
    "data=read_csv(fichier)\n",
    "\n",
    "# Afficher les premières lignes\n",
    "print(data.head())\n",
    "\n",
    "# Vérifier les informations générales\n",
    "print(data.info())\n",
    "\n",
    "# Vérifier les valeurs manquantes\n",
    "print(data.isnull().sum())\n",
    "\n",
    "print(data.columns)\n",
    "\n"
   ]
  },
  {
   "cell_type": "code",
   "execution_count": 3,
   "metadata": {},
   "outputs": [
    {
     "name": "stderr",
     "output_type": "stream",
     "text": [
      "C:\\Users\\admin\\AppData\\Local\\Temp\\ipykernel_1192\\3909858366.py:9: FutureWarning: \n",
      "\n",
      "Passing `palette` without assigning `hue` is deprecated and will be removed in v0.14.0. Assign the `x` variable to `hue` and set `legend=False` for the same effect.\n",
      "\n",
      "  sns.barplot(x=sales_by_product.index.astype(str), y=sales_by_product.values, palette=\"viridis\")\n"
     ]
    },
    {
     "data": {
      "image/png": "[encoded data removed]",
      "text/plain": [
       "<Figure size 1000x500 with 1 Axes>"
      ]
     },
     "metadata": {},
     "output_type": "display_data"
    }
   ],
   "source": [
    "import seaborn as sns\n",
    "import matplotlib.pyplot as plt\n",
    "\n",
    "# Résumé des ventes par produit\n",
    "sales_by_product = data[['Robusta', 'Arabica', 'Espresso', 'Lungo', 'Latte', 'Cappuccino']].sum()\n",
    "\n",
    "# Visualisation\n",
    "plt.figure(figsize=(10,5))\n",
    "sns.barplot(x=sales_by_product.index.astype(str), y=sales_by_product.values, palette=\"viridis\")\n",
    "plt.title(\"Total des ventes par type de produit\")\n",
    "plt.show()\n"
   ]
  }
 ],
 "metadata": {
  "kernelspec": {
   "display_name": "Env",
   "language": "python",
   "name": "python3"
  },
  "language_info": {
   "codemirror_mode": {
    "name": "ipython",
    "version": 3
   },
   "file_extension": ".py",
   "mimetype": "text/x-python",
   "name": "python",
   "nbconvert_exporter": "python",
   "pygments_lexer": "ipython3",
   "version": "3.12.7"
  }
 },
 "nbformat": 4,
 "nbformat_minor": 2
}
